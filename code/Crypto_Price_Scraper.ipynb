{
  "nbformat": 4,
  "nbformat_minor": 0,
  "metadata": {
    "colab": {
      "name": "Crypto Price Scraper.ipynb",
      "version": "0.3.2",
      "provenance": [],
      "collapsed_sections": [],
      "include_colab_link": true
    },
    "kernelspec": {
      "name": "python3",
      "display_name": "Python 3"
    }
  },
  "cells": [
    {
      "cell_type": "markdown",
      "metadata": {
        "id": "view-in-github",
        "colab_type": "text"
      },
      "source": [
        "<a href=\"https://colab.research.google.com/github/a-apte/DS_Visualization_Project/blob/master/Crypto_Price_Scraper.ipynb\" target=\"_parent\"><img src=\"https://colab.research.google.com/assets/colab-badge.svg\" alt=\"Open In Colab\"/></a>"
      ]
    },
    {
      "metadata": {
        "id": "PTx9YuYiCsw5",
        "colab_type": "text"
      },
      "cell_type": "markdown",
      "source": [
        "### SCRAPER"
      ]
    },
    {
      "metadata": {
        "id": "lZ1gxVOL9JKu",
        "colab_type": "code",
        "outputId": "c65f2802-6f2e-45fc-e557-3402a9141ec5",
        "colab": {
          "base_uri": "https://localhost:8080/",
          "height": 104
        }
      },
      "cell_type": "code",
      "source": [
        "!pip install --upgrade lxml\n",
        "!pip install --upgrade html5lib\n",
        "!pip install --upgrade BeautifulSoup4"
      ],
      "execution_count": 1,
      "outputs": [
        {
          "output_type": "stream",
          "text": [
            "Requirement already up-to-date: lxml in /usr/local/lib/python3.6/dist-packages (4.2.5)\n",
            "Requirement already up-to-date: html5lib in /usr/local/lib/python3.6/dist-packages (1.0.1)\n",
            "Requirement already satisfied, skipping upgrade: webencodings in /usr/local/lib/python3.6/dist-packages (from html5lib) (0.5.1)\n",
            "Requirement already satisfied, skipping upgrade: six>=1.9 in /usr/local/lib/python3.6/dist-packages (from html5lib) (1.11.0)\n",
            "Requirement already up-to-date: BeautifulSoup4 in /usr/local/lib/python3.6/dist-packages (4.6.3)\n"
          ],
          "name": "stdout"
        }
      ]
    },
    {
      "metadata": {
        "id": "aNR8WLgq9MEL",
        "colab_type": "text"
      },
      "cell_type": "markdown",
      "source": [
        "**RESTART RUNTIME AFTER THIS STEP**"
      ]
    },
    {
      "metadata": {
        "id": "BX_4jwhaVH5N",
        "colab_type": "code",
        "colab": {}
      },
      "cell_type": "code",
      "source": [
        "# Alt to restarting Runtime\n",
        "\n",
        "import os\n",
        "os.kill(os.getpid(), 9)"
      ],
      "execution_count": 0,
      "outputs": []
    },
    {
      "metadata": {
        "id": "6zJ5kDbAST96",
        "colab_type": "text"
      },
      "cell_type": "markdown",
      "source": [
        "#### SCRAPER FUNCTION"
      ]
    },
    {
      "metadata": {
        "id": "ENYEalUMKMvN",
        "colab_type": "code",
        "colab": {}
      },
      "cell_type": "code",
      "source": [
        "import datetime as dt\n",
        "import pandas as pd\n",
        "\n",
        "# Top 5 cryptocurrencies by market cap: 'bitcoin', 'ripple', 'ethereum', 'stellar', 'tether'\n",
        "\n",
        "\n",
        "def Crypto_Scraper(crypto = 'bitcoin'):\n",
        "  \n",
        "  '''This function will scrape price data for a specific cryptocurrency from CoinMarketCap.com and format it in a desired way for further investigation'''\n",
        "  \n",
        "  my_date = dt.date.today()\n",
        "  year, month, day = str(my_date).split('-')\n",
        "  url = 'https://coinmarketcap.com/currencies/' + crypto + '/historical-data/?start=20000101&end=' + year + month + day\n",
        "  df = pd.read_html(url,header=0) \n",
        "  df = df[0]\n",
        "  df.rename(columns = {'Open*': 'Open', 'Close**': 'Close', 'Market Cap': 'Market_Cap'}, inplace = True)\n",
        "  df.Date = pd.to_datetime(df.Date)\n",
        "  df['Open'] = df['Open'].astype(float)\n",
        "  df['High'] = df['High'].astype(float)\n",
        "  df['Low'] = df['Low'].astype(float)\n",
        "  df['Close'] = df['Close'].astype(float)  \n",
        "  df['Volume'].replace('-',0, inplace = True)\n",
        "  df['Volume'] = df['Volume'].astype(int)\n",
        "  df['Market_Cap'] = df['Market_Cap'].astype(float)\n",
        "  df['DayOfWeek'] = df['Date'].dt.weekday_name # Further use of Date before setting the Index\n",
        "  df['Year'] = df['Date'].dt.year # Further use of Date before setting the Index\n",
        "  df['Month'] = df['Date'].dt.month # Further use of Date before setting the Index\n",
        "  df['Day'] = df['Date'].dt.day # Further use of Date before setting the Index\n",
        "  df.set_index('Date', inplace = True)\n",
        "  df = df.sort_index(ascending=True)\n",
        "  \n",
        "  return df\n",
        "  \n",
        "  "
      ],
      "execution_count": 0,
      "outputs": []
    },
    {
      "metadata": {
        "id": "xR6PWSIv7Tq1",
        "colab_type": "text"
      },
      "cell_type": "markdown",
      "source": [
        "#### BITCOIN"
      ]
    },
    {
      "metadata": {
        "id": "2sXKROeKK5EW",
        "colab_type": "code",
        "outputId": "02cf3cca-f2b0-4a06-e373-8075321f0851",
        "colab": {
          "base_uri": "https://localhost:8080/",
          "height": 233
        }
      },
      "cell_type": "code",
      "source": [
        "dfB = Crypto_Scraper() # default is bitcoin\n",
        "\n",
        "dfB.head()"
      ],
      "execution_count": 2,
      "outputs": [
        {
          "output_type": "execute_result",
          "data": {
            "text/html": [
              "<div>\n",
              "<style scoped>\n",
              "    .dataframe tbody tr th:only-of-type {\n",
              "        vertical-align: middle;\n",
              "    }\n",
              "\n",
              "    .dataframe tbody tr th {\n",
              "        vertical-align: top;\n",
              "    }\n",
              "\n",
              "    .dataframe thead th {\n",
              "        text-align: right;\n",
              "    }\n",
              "</style>\n",
              "<table border=\"1\" class=\"dataframe\">\n",
              "  <thead>\n",
              "    <tr style=\"text-align: right;\">\n",
              "      <th></th>\n",
              "      <th>Open</th>\n",
              "      <th>High</th>\n",
              "      <th>Low</th>\n",
              "      <th>Close</th>\n",
              "      <th>Volume</th>\n",
              "      <th>Market_Cap</th>\n",
              "      <th>DayOfWeek</th>\n",
              "      <th>Year</th>\n",
              "      <th>Month</th>\n",
              "      <th>Day</th>\n",
              "    </tr>\n",
              "    <tr>\n",
              "      <th>Date</th>\n",
              "      <th></th>\n",
              "      <th></th>\n",
              "      <th></th>\n",
              "      <th></th>\n",
              "      <th></th>\n",
              "      <th></th>\n",
              "      <th></th>\n",
              "      <th></th>\n",
              "      <th></th>\n",
              "      <th></th>\n",
              "    </tr>\n",
              "  </thead>\n",
              "  <tbody>\n",
              "    <tr>\n",
              "      <th>2013-04-28</th>\n",
              "      <td>135.30</td>\n",
              "      <td>135.98</td>\n",
              "      <td>132.10</td>\n",
              "      <td>134.21</td>\n",
              "      <td>0</td>\n",
              "      <td>1.488567e+09</td>\n",
              "      <td>Sunday</td>\n",
              "      <td>2013</td>\n",
              "      <td>4</td>\n",
              "      <td>28</td>\n",
              "    </tr>\n",
              "    <tr>\n",
              "      <th>2013-04-29</th>\n",
              "      <td>134.44</td>\n",
              "      <td>147.49</td>\n",
              "      <td>134.00</td>\n",
              "      <td>144.54</td>\n",
              "      <td>0</td>\n",
              "      <td>1.603769e+09</td>\n",
              "      <td>Monday</td>\n",
              "      <td>2013</td>\n",
              "      <td>4</td>\n",
              "      <td>29</td>\n",
              "    </tr>\n",
              "    <tr>\n",
              "      <th>2013-04-30</th>\n",
              "      <td>144.00</td>\n",
              "      <td>146.93</td>\n",
              "      <td>134.05</td>\n",
              "      <td>139.00</td>\n",
              "      <td>0</td>\n",
              "      <td>1.542813e+09</td>\n",
              "      <td>Tuesday</td>\n",
              "      <td>2013</td>\n",
              "      <td>4</td>\n",
              "      <td>30</td>\n",
              "    </tr>\n",
              "    <tr>\n",
              "      <th>2013-05-01</th>\n",
              "      <td>139.00</td>\n",
              "      <td>139.89</td>\n",
              "      <td>107.72</td>\n",
              "      <td>116.99</td>\n",
              "      <td>0</td>\n",
              "      <td>1.298955e+09</td>\n",
              "      <td>Wednesday</td>\n",
              "      <td>2013</td>\n",
              "      <td>5</td>\n",
              "      <td>1</td>\n",
              "    </tr>\n",
              "    <tr>\n",
              "      <th>2013-05-02</th>\n",
              "      <td>116.38</td>\n",
              "      <td>125.60</td>\n",
              "      <td>92.28</td>\n",
              "      <td>105.21</td>\n",
              "      <td>0</td>\n",
              "      <td>1.168517e+09</td>\n",
              "      <td>Thursday</td>\n",
              "      <td>2013</td>\n",
              "      <td>5</td>\n",
              "      <td>2</td>\n",
              "    </tr>\n",
              "  </tbody>\n",
              "</table>\n",
              "</div>"
            ],
            "text/plain": [
              "              Open    High     Low   Close  Volume    Market_Cap  DayOfWeek  \\\n",
              "Date                                                                          \n",
              "2013-04-28  135.30  135.98  132.10  134.21       0  1.488567e+09     Sunday   \n",
              "2013-04-29  134.44  147.49  134.00  144.54       0  1.603769e+09     Monday   \n",
              "2013-04-30  144.00  146.93  134.05  139.00       0  1.542813e+09    Tuesday   \n",
              "2013-05-01  139.00  139.89  107.72  116.99       0  1.298955e+09  Wednesday   \n",
              "2013-05-02  116.38  125.60   92.28  105.21       0  1.168517e+09   Thursday   \n",
              "\n",
              "            Year  Month  Day  \n",
              "Date                          \n",
              "2013-04-28  2013      4   28  \n",
              "2013-04-29  2013      4   29  \n",
              "2013-04-30  2013      4   30  \n",
              "2013-05-01  2013      5    1  \n",
              "2013-05-02  2013      5    2  "
            ]
          },
          "metadata": {
            "tags": []
          },
          "execution_count": 2
        }
      ]
    },
    {
      "metadata": {
        "id": "eWYrdLK2N-OO",
        "colab_type": "code",
        "outputId": "99b481c4-85da-4b85-9faf-b7c0a2264f92",
        "colab": {
          "base_uri": "https://localhost:8080/",
          "height": 208
        }
      },
      "cell_type": "code",
      "source": [
        "dfB.dtypes"
      ],
      "execution_count": 3,
      "outputs": [
        {
          "output_type": "execute_result",
          "data": {
            "text/plain": [
              "Open          float64\n",
              "High          float64\n",
              "Low           float64\n",
              "Close         float64\n",
              "Volume          int64\n",
              "Market_Cap    float64\n",
              "DayOfWeek      object\n",
              "Year            int64\n",
              "Month           int64\n",
              "Day             int64\n",
              "dtype: object"
            ]
          },
          "metadata": {
            "tags": []
          },
          "execution_count": 3
        }
      ]
    },
    {
      "metadata": {
        "id": "aLHBEgnsPd5s",
        "colab_type": "code",
        "outputId": "15307b62-9bb4-4659-8a9a-cbcc74f99037",
        "colab": {
          "base_uri": "https://localhost:8080/",
          "height": 378
        }
      },
      "cell_type": "code",
      "source": [
        "dfB['Close'].plot.line()"
      ],
      "execution_count": 4,
      "outputs": [
        {
          "output_type": "execute_result",
          "data": {
            "text/plain": [
              "<matplotlib.axes._subplots.AxesSubplot at 0x7f066cf86748>"
            ]
          },
          "metadata": {
            "tags": []
          },
          "execution_count": 4
        },
        {
          "output_type": "display_data",
          "data": {
            "image/png": "[encoded data removed]",
            "text/plain": [
              "<matplotlib.figure.Figure at 0x7f066d02e5f8>"
            ]
          },
          "metadata": {
            "tags": []
          }
        }
      ]
    },
    {
      "metadata": {
        "id": "fGOsC0Yrh143",
        "colab_type": "text"
      },
      "cell_type": "markdown",
      "source": [
        "#### RIPPLE"
      ]
    },
    {
      "metadata": {
        "id": "jmRD3LwJiZVK",
        "colab_type": "code",
        "colab": {
          "base_uri": "https://localhost:8080/",
          "height": 233
        },
        "outputId": "c6af27f2-599c-446c-dee0-70476a04932b"
      },
      "cell_type": "code",
      "source": [
        "dfR = Crypto_Scraper('ripple')\n",
        "\n",
        "dfR.head()"
      ],
      "execution_count": 5,
      "outputs": [
        {
          "output_type": "execute_result",
          "data": {
            "text/html": [
              "<div>\n",
              "<style scoped>\n",
              "    .dataframe tbody tr th:only-of-type {\n",
              "        vertical-align: middle;\n",
              "    }\n",
              "\n",
              "    .dataframe tbody tr th {\n",
              "        vertical-align: top;\n",
              "    }\n",
              "\n",
              "    .dataframe thead th {\n",
              "        text-align: right;\n",
              "    }\n",
              "</style>\n",
              "<table border=\"1\" class=\"dataframe\">\n",
              "  <thead>\n",
              "    <tr style=\"text-align: right;\">\n",
              "      <th></th>\n",
              "      <th>Open</th>\n",
              "      <th>High</th>\n",
              "      <th>Low</th>\n",
              "      <th>Close</th>\n",
              "      <th>Volume</th>\n",
              "      <th>Market_Cap</th>\n",
              "      <th>DayOfWeek</th>\n",
              "      <th>Year</th>\n",
              "      <th>Month</th>\n",
              "      <th>Day</th>\n",
              "    </tr>\n",
              "    <tr>\n",
              "      <th>Date</th>\n",
              "      <th></th>\n",
              "      <th></th>\n",
              "      <th></th>\n",
              "      <th></th>\n",
              "      <th></th>\n",
              "      <th></th>\n",
              "      <th></th>\n",
              "      <th></th>\n",
              "      <th></th>\n",
              "      <th></th>\n",
              "    </tr>\n",
              "  </thead>\n",
              "  <tbody>\n",
              "    <tr>\n",
              "      <th>2013-08-04</th>\n",
              "      <td>0.005874</td>\n",
              "      <td>0.005927</td>\n",
              "      <td>0.005874</td>\n",
              "      <td>0.005882</td>\n",
              "      <td>0</td>\n",
              "      <td>45983577.0</td>\n",
              "      <td>Sunday</td>\n",
              "      <td>2013</td>\n",
              "      <td>8</td>\n",
              "      <td>4</td>\n",
              "    </tr>\n",
              "    <tr>\n",
              "      <th>2013-08-05</th>\n",
              "      <td>0.005875</td>\n",
              "      <td>0.005980</td>\n",
              "      <td>0.005613</td>\n",
              "      <td>0.005613</td>\n",
              "      <td>0</td>\n",
              "      <td>43879157.0</td>\n",
              "      <td>Monday</td>\n",
              "      <td>2013</td>\n",
              "      <td>8</td>\n",
              "      <td>5</td>\n",
              "    </tr>\n",
              "    <tr>\n",
              "      <th>2013-08-06</th>\n",
              "      <td>0.005637</td>\n",
              "      <td>0.005661</td>\n",
              "      <td>0.004629</td>\n",
              "      <td>0.004680</td>\n",
              "      <td>0</td>\n",
              "      <td>36591008.0</td>\n",
              "      <td>Tuesday</td>\n",
              "      <td>2013</td>\n",
              "      <td>8</td>\n",
              "      <td>6</td>\n",
              "    </tr>\n",
              "    <tr>\n",
              "      <th>2013-08-07</th>\n",
              "      <td>0.004669</td>\n",
              "      <td>0.004682</td>\n",
              "      <td>0.004333</td>\n",
              "      <td>0.004417</td>\n",
              "      <td>0</td>\n",
              "      <td>34534121.0</td>\n",
              "      <td>Wednesday</td>\n",
              "      <td>2013</td>\n",
              "      <td>8</td>\n",
              "      <td>7</td>\n",
              "    </tr>\n",
              "    <tr>\n",
              "      <th>2013-08-08</th>\n",
              "      <td>0.004397</td>\n",
              "      <td>0.004424</td>\n",
              "      <td>0.004175</td>\n",
              "      <td>0.004254</td>\n",
              "      <td>0</td>\n",
              "      <td>33258632.0</td>\n",
              "      <td>Thursday</td>\n",
              "      <td>2013</td>\n",
              "      <td>8</td>\n",
              "      <td>8</td>\n",
              "    </tr>\n",
              "  </tbody>\n",
              "</table>\n",
              "</div>"
            ],
            "text/plain": [
              "                Open      High       Low     Close  Volume  Market_Cap  \\\n",
              "Date                                                                     \n",
              "2013-08-04  0.005874  0.005927  0.005874  0.005882       0  45983577.0   \n",
              "2013-08-05  0.005875  0.005980  0.005613  0.005613       0  43879157.0   \n",
              "2013-08-06  0.005637  0.005661  0.004629  0.004680       0  36591008.0   \n",
              "2013-08-07  0.004669  0.004682  0.004333  0.004417       0  34534121.0   \n",
              "2013-08-08  0.004397  0.004424  0.004175  0.004254       0  33258632.0   \n",
              "\n",
              "            DayOfWeek  Year  Month  Day  \n",
              "Date                                     \n",
              "2013-08-04     Sunday  2013      8    4  \n",
              "2013-08-05     Monday  2013      8    5  \n",
              "2013-08-06    Tuesday  2013      8    6  \n",
              "2013-08-07  Wednesday  2013      8    7  \n",
              "2013-08-08   Thursday  2013      8    8  "
            ]
          },
          "metadata": {
            "tags": []
          },
          "execution_count": 5
        }
      ]
    },
    {
      "metadata": {
        "id": "fz-D7HZAiZTd",
        "colab_type": "code",
        "colab": {
          "base_uri": "https://localhost:8080/",
          "height": 208
        },
        "outputId": "e4500561-c551-4307-f146-81b2fdcd2118"
      },
      "cell_type": "code",
      "source": [
        "dfR.dtypes"
      ],
      "execution_count": 6,
      "outputs": [
        {
          "output_type": "execute_result",
          "data": {
            "text/plain": [
              "Open          float64\n",
              "High          float64\n",
              "Low           float64\n",
              "Close         float64\n",
              "Volume          int64\n",
              "Market_Cap    float64\n",
              "DayOfWeek      object\n",
              "Year            int64\n",
              "Month           int64\n",
              "Day             int64\n",
              "dtype: object"
            ]
          },
          "metadata": {
            "tags": []
          },
          "execution_count": 6
        }
      ]
    },
    {
      "metadata": {
        "id": "9nIvLb7FiZQD",
        "colab_type": "code",
        "colab": {
          "base_uri": "https://localhost:8080/",
          "height": 378
        },
        "outputId": "268665eb-979b-4f88-b3d3-76f3854b0dca"
      },
      "cell_type": "code",
      "source": [
        "dfR.Close.plot.line()"
      ],
      "execution_count": 7,
      "outputs": [
        {
          "output_type": "execute_result",
          "data": {
            "text/plain": [
              "<matplotlib.axes._subplots.AxesSubplot at 0x7f066dddf8d0>"
            ]
          },
          "metadata": {
            "tags": []
          },
          "execution_count": 7
        },
        {
          "output_type": "display_data",
          "data": {
            "image/png": "[encoded data removed]",
            "text/plain": [
              "<matplotlib.figure.Figure at 0x7f066ddffa58>"
            ]
          },
          "metadata": {
            "tags": []
          }
        }
      ]
    },
    {
      "metadata": {
        "id": "AeZwAtcu67fY",
        "colab_type": "text"
      },
      "cell_type": "markdown",
      "source": [
        "#### ETHEREUM"
      ]
    },
    {
      "metadata": {
        "id": "MzXNgi8LNSe8",
        "colab_type": "code",
        "outputId": "aa9d0a9d-00fa-4703-df3e-3806aa206bad",
        "colab": {
          "base_uri": "https://localhost:8080/",
          "height": 233
        }
      },
      "cell_type": "code",
      "source": [
        "dfE = Crypto_Scraper('ethereum')\n",
        "\n",
        "dfE.head()"
      ],
      "execution_count": 8,
      "outputs": [
        {
          "output_type": "execute_result",
          "data": {
            "text/html": [
              "<div>\n",
              "<style scoped>\n",
              "    .dataframe tbody tr th:only-of-type {\n",
              "        vertical-align: middle;\n",
              "    }\n",
              "\n",
              "    .dataframe tbody tr th {\n",
              "        vertical-align: top;\n",
              "    }\n",
              "\n",
              "    .dataframe thead th {\n",
              "        text-align: right;\n",
              "    }\n",
              "</style>\n",
              "<table border=\"1\" class=\"dataframe\">\n",
              "  <thead>\n",
              "    <tr style=\"text-align: right;\">\n",
              "      <th></th>\n",
              "      <th>Open</th>\n",
              "      <th>High</th>\n",
              "      <th>Low</th>\n",
              "      <th>Close</th>\n",
              "      <th>Volume</th>\n",
              "      <th>Market_Cap</th>\n",
              "      <th>DayOfWeek</th>\n",
              "      <th>Year</th>\n",
              "      <th>Month</th>\n",
              "      <th>Day</th>\n",
              "    </tr>\n",
              "    <tr>\n",
              "      <th>Date</th>\n",
              "      <th></th>\n",
              "      <th></th>\n",
              "      <th></th>\n",
              "      <th></th>\n",
              "      <th></th>\n",
              "      <th></th>\n",
              "      <th></th>\n",
              "      <th></th>\n",
              "      <th></th>\n",
              "      <th></th>\n",
              "    </tr>\n",
              "  </thead>\n",
              "  <tbody>\n",
              "    <tr>\n",
              "      <th>2015-08-07</th>\n",
              "      <td>2.830000</td>\n",
              "      <td>3.540000</td>\n",
              "      <td>2.520000</td>\n",
              "      <td>2.770000</td>\n",
              "      <td>164329</td>\n",
              "      <td>166610555.0</td>\n",
              "      <td>Friday</td>\n",
              "      <td>2015</td>\n",
              "      <td>8</td>\n",
              "      <td>7</td>\n",
              "    </tr>\n",
              "    <tr>\n",
              "      <th>2015-08-08</th>\n",
              "      <td>2.790000</td>\n",
              "      <td>2.800000</td>\n",
              "      <td>0.714725</td>\n",
              "      <td>0.753325</td>\n",
              "      <td>674188</td>\n",
              "      <td>45486894.0</td>\n",
              "      <td>Saturday</td>\n",
              "      <td>2015</td>\n",
              "      <td>8</td>\n",
              "      <td>8</td>\n",
              "    </tr>\n",
              "    <tr>\n",
              "      <th>2015-08-09</th>\n",
              "      <td>0.706136</td>\n",
              "      <td>0.879810</td>\n",
              "      <td>0.629191</td>\n",
              "      <td>0.701897</td>\n",
              "      <td>532170</td>\n",
              "      <td>42399573.0</td>\n",
              "      <td>Sunday</td>\n",
              "      <td>2015</td>\n",
              "      <td>8</td>\n",
              "      <td>9</td>\n",
              "    </tr>\n",
              "    <tr>\n",
              "      <th>2015-08-10</th>\n",
              "      <td>0.713989</td>\n",
              "      <td>0.729854</td>\n",
              "      <td>0.636546</td>\n",
              "      <td>0.708448</td>\n",
              "      <td>405283</td>\n",
              "      <td>42818364.0</td>\n",
              "      <td>Monday</td>\n",
              "      <td>2015</td>\n",
              "      <td>8</td>\n",
              "      <td>10</td>\n",
              "    </tr>\n",
              "    <tr>\n",
              "      <th>2015-08-11</th>\n",
              "      <td>0.708087</td>\n",
              "      <td>1.130000</td>\n",
              "      <td>0.663235</td>\n",
              "      <td>1.070000</td>\n",
              "      <td>1463100</td>\n",
              "      <td>64569288.0</td>\n",
              "      <td>Tuesday</td>\n",
              "      <td>2015</td>\n",
              "      <td>8</td>\n",
              "      <td>11</td>\n",
              "    </tr>\n",
              "  </tbody>\n",
              "</table>\n",
              "</div>"
            ],
            "text/plain": [
              "                Open      High       Low     Close   Volume   Market_Cap  \\\n",
              "Date                                                                       \n",
              "2015-08-07  2.830000  3.540000  2.520000  2.770000   164329  166610555.0   \n",
              "2015-08-08  2.790000  2.800000  0.714725  0.753325   674188   45486894.0   \n",
              "2015-08-09  0.706136  0.879810  0.629191  0.701897   532170   42399573.0   \n",
              "2015-08-10  0.713989  0.729854  0.636546  0.708448   405283   42818364.0   \n",
              "2015-08-11  0.708087  1.130000  0.663235  1.070000  1463100   64569288.0   \n",
              "\n",
              "           DayOfWeek  Year  Month  Day  \n",
              "Date                                    \n",
              "2015-08-07    Friday  2015      8    7  \n",
              "2015-08-08  Saturday  2015      8    8  \n",
              "2015-08-09    Sunday  2015      8    9  \n",
              "2015-08-10    Monday  2015      8   10  \n",
              "2015-08-11   Tuesday  2015      8   11  "
            ]
          },
          "metadata": {
            "tags": []
          },
          "execution_count": 8
        }
      ]
    },
    {
      "metadata": {
        "id": "qFbxmUb2Pt7I",
        "colab_type": "code",
        "outputId": "37e1d581-5c4e-4f91-9908-e2c6f5c24374",
        "colab": {
          "base_uri": "https://localhost:8080/",
          "height": 208
        }
      },
      "cell_type": "code",
      "source": [
        "dfE.dtypes"
      ],
      "execution_count": 9,
      "outputs": [
        {
          "output_type": "execute_result",
          "data": {
            "text/plain": [
              "Open          float64\n",
              "High          float64\n",
              "Low           float64\n",
              "Close         float64\n",
              "Volume          int64\n",
              "Market_Cap    float64\n",
              "DayOfWeek      object\n",
              "Year            int64\n",
              "Month           int64\n",
              "Day             int64\n",
              "dtype: object"
            ]
          },
          "metadata": {
            "tags": []
          },
          "execution_count": 9
        }
      ]
    },
    {
      "metadata": {
        "id": "mFE2HUnlUI8w",
        "colab_type": "code",
        "outputId": "1fc6e2dc-5cf4-421f-f08b-edbd68afa1a9",
        "colab": {
          "base_uri": "https://localhost:8080/",
          "height": 389
        }
      },
      "cell_type": "code",
      "source": [
        "dfE.Close.plot.line()"
      ],
      "execution_count": 10,
      "outputs": [
        {
          "output_type": "execute_result",
          "data": {
            "text/plain": [
              "<matplotlib.axes._subplots.AxesSubplot at 0x7f066debe0b8>"
            ]
          },
          "metadata": {
            "tags": []
          },
          "execution_count": 10
        },
        {
          "output_type": "display_data",
          "data": {
            "image/png": "[encoded data removed]",
            "text/plain": [
              "<matplotlib.figure.Figure at 0x7f066deca198>"
            ]
          },
          "metadata": {
            "tags": []
          }
        }
      ]
    },
    {
      "metadata": {
        "id": "3UVXl2mf6-GT",
        "colab_type": "text"
      },
      "cell_type": "markdown",
      "source": [
        "#### DOWNLOADING FILES TO LOCAL MACHINE"
      ]
    },
    {
      "metadata": {
        "id": "dc7_nh0Gy8fL",
        "colab_type": "code",
        "colab": {}
      },
      "cell_type": "code",
      "source": [
        "# Downloading clean Bitcoin Data file\n",
        "\n",
        "from google.colab import files\n",
        "\n",
        "dfB.to_csv('bitcoin.csv')\n",
        "files.download('bitcoin.csv')"
      ],
      "execution_count": 0,
      "outputs": []
    },
    {
      "metadata": {
        "id": "n6oN4GXhy8Io",
        "colab_type": "code",
        "colab": {}
      },
      "cell_type": "code",
      "source": [
        "# Downloading clean Ripple Data file\n",
        "\n",
        "dfR.to_csv('ripple.csv')\n",
        "files.download('ripple.csv')"
      ],
      "execution_count": 0,
      "outputs": []
    },
    {
      "metadata": {
        "id": "og4QgqZuy8GL",
        "colab_type": "code",
        "colab": {}
      },
      "cell_type": "code",
      "source": [
        "# Downloading clean Ethereum Data File\n",
        "\n",
        "dfE.to_csv('ethereum.csv')\n",
        "files.download('ethereum.csv')"
      ],
      "execution_count": 0,
      "outputs": []
    }
  ]
}
